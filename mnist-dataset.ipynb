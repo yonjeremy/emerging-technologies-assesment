{
 "cells": [
  {
   "cell_type": "markdown",
   "metadata": {},
   "source": [
    "# MNIST\n",
    "![Image of mnist](https://cdn-images-1.medium.com/max/1600/1*_R6Qhi8dbLe8jvVKlGdHYw.png)\n",
    "\n",
    "\n",
    "## Introduction\n",
    "This jupyter notebook will explain how to read the MNIST dataset efficiently into memory in Python.\n",
    "\n",
    "### What is MNIST?\n",
    "The **MNIST database [1]** is a database that contains a training set of 60,000 examples, and a test set of 10,000 examples, of hand written digits. It stands for the Mixed National Institute of Standards and Technology. It is used for training image processing systems. \n",
    "\n",
    "### Files involved\n",
    "There are four files that are available on the official MNIST website:\n",
    "1. Training set images\n",
    "2. Training set labels\n",
    "3. Test set images\n",
    "4. Test set labels\n",
    "\n",
    "Files 1 and 2 are the training set files; we will use these files to train our neural network later on.\n",
    "\n",
    "Files 3 and 4 are the test set files, these files will be used on our trained neural network to try to predict the handwritten digits.\n",
    "\n",
    "Files 1 and 3 contain the image files for the digits, and files 2 and 4 contain the labels for the digits.\n",
    "\n",
    "The files are compressed with the .gz extension. GZ files are files that have been created using the gzip compression utility. This was created to replace and improve the Compress in UNIX.\n",
    "\n",
    "### Reading from the compressed files\n",
    "\n",
    "The gz files can be manually extracted using tools like 7zip and peazip, but for ease of access, we can use python libraries that will help with this. We will use a package called **gzip [2]** to help with this.\n",
    "\n",
    "The following shows the usage of gzip to read in all the files:"
   ]
  },
  {
   "cell_type": "code",
   "execution_count": 31,
   "metadata": {},
   "outputs": [],
   "source": [
    "# Adapted from: https://docs.python.org/3/library/gzip.html\n",
    "\n",
    "import gzip\n",
    "\n",
    "# extract and read the respective training and test datasets\n",
    "with gzip.open('data/train-images-idx3-ubyte.gz', 'rb') as f:\n",
    "    train_images = f.read()\n",
    "    \n",
    "with gzip.open('data/train-labels-idx1-ubyte.gz', 'rb') as f:\n",
    "    train_labels = f.read()\n",
    "    \n",
    "with gzip.open('data/t10k-images-idx3-ubyte.gz', 'rb') as f:\n",
    "    test_images = f.read()\n",
    "    \n",
    "with gzip.open('data/t10k-labels-idx1-ubyte.gz', 'rb') as f:\n",
    "    test_labels = f.read()\n",
    "    \n",
    "\n",
    "    \n"
   ]
  },
  {
   "cell_type": "markdown",
   "metadata": {},
   "source": [
    "## Reading the label files\n",
    "\n",
    "Now that we've opened up the gz files, let's take a look at what they contain.\n",
    "\n",
    "This is what the training set labels file contains, according to the MNIST documentation:\n",
    "\n",
    "```\n",
    "|[offset] |[type]          |[value]          |[description]            |\n",
    "\n",
    "|0000     |32 bit integer  |0x00000801(2049) |magic number (MSB first) |\n",
    "|0004     |32 bit integer  |60000            |number of items          |\n",
    "|0008     |unsigned byte   |??               |label                    |\n",
    "|0009     |unsigned byte   |??               |label                    |\n",
    "|........                                                              |  \n",
    "|xxxx     |unsigned byte   ??                |label                    |\n",
    "```\n",
    "The labels values are 0 to 9.\n",
    "\n",
    "The integers in the files are stored in the MSB first (big endian) format. This basically means that the most significant byte (the big end) of the data is places at the byte with the lowest address (it comes first). Good explanation on the **chortle.ccsu website [3]**.\n",
    "\n",
    "The first 4 bytes indicate that the \"magic number\", which tells the user what file he's currently reading in. (2049 are the label sets, 2051 are the image sets).\n",
    "\n",
    "Let's look at the first 4 bytes of the first training set (wrong method):\n"
   ]
  },
  {
   "cell_type": "code",
   "execution_count": 5,
   "metadata": {},
   "outputs": [
    {
     "data": {
      "text/plain": [
       "b'\\x00\\x00\\x08\\x01'"
      ]
     },
     "execution_count": 5,
     "metadata": {},
     "output_type": "execute_result"
    }
   ],
   "source": [
    "train_labels[0:4] #prints bytes from position 0-4 in dataset"
   ]
  },
  {
   "cell_type": "markdown",
   "metadata": {},
   "source": [
    "As we can see, this is the wrong method because the bytes are printed in machine readable code. We have to get the int from the bytes using this method:"
   ]
  },
  {
   "cell_type": "code",
   "execution_count": 7,
   "metadata": {},
   "outputs": [
    {
     "data": {
      "text/plain": [
       "2049"
      ]
     },
     "execution_count": 7,
     "metadata": {},
     "output_type": "execute_result"
    }
   ],
   "source": [
    "int.from_bytes(train_labels[0:4] , byteorder='big') #converts bytes from position 0-4 into int"
   ]
  },
  {
   "cell_type": "markdown",
   "metadata": {},
   "source": [
    "As predicted, the integer that is returned to us is 2049, indicating that it is a label set.\n",
    "\n",
    "The next 4 bytes will tell the user if its a training set or test set by the number of files that it contains:"
   ]
  },
  {
   "cell_type": "code",
   "execution_count": 9,
   "metadata": {},
   "outputs": [
    {
     "data": {
      "text/plain": [
       "60000"
      ]
     },
     "execution_count": 9,
     "metadata": {},
     "output_type": "execute_result"
    }
   ],
   "source": [
    "int.from_bytes(train_labels[4:8], byteorder='big') #converts bytes from position 4-8 into int\n"
   ]
  },
  {
   "cell_type": "markdown",
   "metadata": {},
   "source": [
    "As we can see the integer 60000 represents the 60000 labels that is contained in this training set.\n",
    "\n",
    "The next 60000 bytes contain the labels, which are in order and match up with the training images set. The following are the first 5 labels in the dataset."
   ]
  },
  {
   "cell_type": "code",
   "execution_count": 23,
   "metadata": {},
   "outputs": [
    {
     "name": "stdout",
     "output_type": "stream",
     "text": [
      "5   0   4   1   9\n"
     ]
    }
   ],
   "source": [
    "a = int.from_bytes(train_labels[8:9], byteorder='big') #get first label\n",
    "b = int.from_bytes(train_labels[9:10], byteorder='big') #get second label\n",
    "c = int.from_bytes(train_labels[10:11], byteorder='big') #get third label\n",
    "d = int.from_bytes(train_labels[11:12], byteorder='big') #get fourth label\n",
    "e = int.from_bytes(train_labels[12:13], byteorder='big') #get fifth label\n",
    "print (a,\" \",b,\" \",c,\" \",d,\" \",e); \n"
   ]
  },
  {
   "cell_type": "markdown",
   "metadata": {},
   "source": [
    "These are the first 5 digits contained in both the training labels and images set. \n",
    "\n",
    "The labels test set uses the same format and structure, but with 10000 labels instead of 60000.\n",
    "\n",
    "\n",
    "## Reading the image files\n",
    "The image sets has a slightly different structure, as documented in their website: \n",
    "```\n",
    "|[offset] |[type]          |[value]          |[description]            |\n",
    "\n",
    "|0000     |32 bit integer  |0x00000803(2051) |magic number (MSB first) |\n",
    "|0004     |32 bit integer  |60000            |number of images         |\n",
    "|0008     |32 bit integer  |28               |number of rows           |\n",
    "|0012     |32 bit integer  |28               |number of column         |\n",
    "|0016     |unsigned byte   |??               |pixel                    |\n",
    "|0017     |unsigned byte   |??               |pixel                    |\n",
    "|........                                                              |  \n",
    "|xxxx     |unsigned byte   ??                |pixel                    |\n",
    "```\n",
    "\n",
    "As we can see from the table above, the structure of the dataset is similar to the labels data set. From byte 16 onwards, the byte stores a pixel value. The images in this dataset are 28 x 28, which means that every 784 pixels will make up one image.\n",
    "\n",
    "The following is the code to read the first 5 images. Note that the array has to be reshaped to28 x 28:"
   ]
  },
  {
   "cell_type": "code",
   "execution_count": 46,
   "metadata": {},
   "outputs": [
    {
     "data": {
      "text/plain": [
       "<matplotlib.image.AxesImage at 0x222eb728550>"
      ]
     },
     "execution_count": 46,
     "metadata": {},
     "output_type": "execute_result"
    },
    {
     "data": {
      "image/png": "[encoded data removed]",
      "text/plain": [
       "<Figure size 432x288 with 1 Axes>"
      ]
     },
     "metadata": {},
     "output_type": "display_data"
    },
    {
     "data": {
      "image/png": "[encoded data removed]",
      "text/plain": [
       "<Figure size 432x288 with 1 Axes>"
      ]
     },
     "metadata": {},
     "output_type": "display_data"
    },
    {
     "data": {
      "image/png": "[encoded data removed]",
      "text/plain": [
       "<Figure size 432x288 with 1 Axes>"
      ]
     },
     "metadata": {},
     "output_type": "display_data"
    },
    {
     "data": {
      "image/png": "[encoded data removed]",
      "text/plain": [
       "<Figure size 432x288 with 1 Axes>"
      ]
     },
     "metadata": {},
     "output_type": "display_data"
    },
    {
     "data": {
      "image/png": "[encoded data removed]",
      "text/plain": [
       "<Figure size 432x288 with 1 Axes>"
      ]
     },
     "metadata": {},
     "output_type": "display_data"
    }
   ],
   "source": [
    "import numpy as np\n",
    "import matplotlib.pyplot as plt\n",
    "\n",
    "imageA = ~np.array(list(train_images[16:800])).reshape(28,28).astype(np.uint8) #get first image\n",
    "imageB = ~np.array(list(train_images[800:1584])).reshape(28,28).astype(np.uint8) #get second image\n",
    "imageC = ~np.array(list(train_images[1584:2368])).reshape(28,28).astype(np.uint8) #get third image\n",
    "imageD = ~np.array(list(train_images[2368:3152])).reshape(28,28).astype(np.uint8) #get fourth image\n",
    "imageE = ~np.array(list(train_images[3152:3936])).reshape(28,28).astype(np.uint8) #get fifth image\n",
    "%matplotlib inline\n",
    "\n",
    "\n",
    "plt.imshow(imageA, cmap='gray') #display first image\n",
    "plt.figure()\n",
    "plt.imshow(imageB, cmap='gray') #display second image\n",
    "plt.figure()\n",
    "plt.imshow(imageC, cmap='gray') #display third image\n",
    "plt.figure()\n",
    "plt.imshow(imageD, cmap='gray') #display fourth image\n",
    "plt.figure()\n",
    "plt.imshow(imageE, cmap='gray') #display fifth image"
   ]
  },
  {
   "cell_type": "markdown",
   "metadata": {},
   "source": [
    "The 5 images displayed are the same as the first 5 labels in the labels dataset. \n",
    "\n",
    "The ~ symbol is put before the function is to change all the 255 pixels to 0, and vice versa. This is because the pixel values used by MNIST, 0 means background (white), 255 means foreground (black). This is the reverse of the more common 0 means foreground, and 255 means black. Inverting it will just make it revert to the original colour as MNIST intended.\n",
    "\n"
   ]
  },
  {
   "cell_type": "markdown",
   "metadata": {},
   "source": [
    "## Exporting Images and Labels\n",
    "\n",
    "Now that we know what these dataset contain, we can export the images and labels. \n",
    "\n",
    "We will first dissect the images and labels dataset, by getting each label and image and putting them in an array in the right order:"
   ]
  },
  {
   "cell_type": "code",
   "execution_count": 72,
   "metadata": {},
   "outputs": [],
   "source": [
    "train_labels_array = [] #instantiate array for train labels\n",
    "\n",
    "for x in range(8, 60008): #iterate to EOF\n",
    "    y= x+1\n",
    "    label = int.from_bytes(train_labels[x:y], byteorder='big')\n",
    "    train_labels_array.append(label)\n",
    "\n",
    "train_images_array = [] #instantiate array for train images\n",
    "\n",
    "for x in range(16, 47040000,784): #iterate to EOF\n",
    "    y= x+784\n",
    "    image = ~np.array(list(train_images[x:y])).reshape(28,28).astype(np.uint8)\n",
    "    train_images_array.append(image)\n",
    "\n",
    "test_labels_array = [] #instantiate array for test labels\n",
    "\n",
    "for x in range(8, 10008): #iterate to EOF\n",
    "    y= x+1\n",
    "    label = int.from_bytes(test_labels[x:y], byteorder='big')\n",
    "    test_labels_array.append(label)\n",
    "\n",
    "test_images_array = [] #instantiate array for test images\n",
    "\n",
    "for x in range(16, 7840016,784): #iterate to EOF\n",
    "    y= x+784\n",
    "    image = ~np.array(list(test_images[x:y])).reshape(28,28).astype(np.uint8)\n",
    "    test_images_array.append(image)\n"
   ]
  },
  {
   "cell_type": "markdown",
   "metadata": {},
   "source": [
    "Next, we will create a train and test directory (if it hasnt been created) in the data directory and output the images along with its labels as its name. The code for converting a list of pixels to an image file was taken from **stackoverflow [4]**."
   ]
  },
  {
   "cell_type": "code",
   "execution_count": 71,
   "metadata": {},
   "outputs": [],
   "source": [
    "from PIL import Image\n",
    "import os\n",
    "\n",
    "\n",
    "\n",
    "# creates this directory \"train\" if the user hasnt created it\n",
    "filename = 'data/train/label'\n",
    "if not os.path.exists(os.path.dirname(filename)):\n",
    "    try:\n",
    "        os.makedirs(os.path.dirname(filename))\n",
    "    except OSError as exc: # Guard against race condition\n",
    "        if exc.errno != errno.EEXIST:\n",
    "            raise\n",
    "            \n",
    "filename = 'data/test/label'\n",
    "if not os.path.exists(os.path.dirname(filename)):\n",
    "    try:\n",
    "        os.makedirs(os.path.dirname(filename))\n",
    "    except OSError as exc: # Guard against race condition\n",
    "        if exc.errno != errno.EEXIST:\n",
    "            raise\n",
    "            \n",
    "            \n",
    "            \n",
    "\n",
    "for x in range(0, 60000): #iterate to EOF\n",
    "    new_image = Image.fromarray(train_images_array[x]) #create the image file\n",
    "    new_image.save('data/train/train_%d_%d.png' % (x + 1,train_labels_array[x])) #save the image file\n",
    "    \n",
    "for x in range(0, 10000): #iterate to EOF\n",
    "    new_image = Image.fromarray(test_images_array[x]) #create the image file\n",
    "    new_image.save('data/test/test_%d_%d.png' % (x + 1,test_labels_array[x])) #save the image file\n",
    "    "
   ]
  },
  {
   "cell_type": "markdown",
   "metadata": {},
   "source": [
    "The images has been exported to the data/train and data/test folders."
   ]
  },
  {
   "cell_type": "markdown",
   "metadata": {},
   "source": [
    "## References\n",
    "\n",
    "1. MNIST Database Website http://yann.lecun.com/exdb/mnist/\n",
    "2. Gzip tutorial and how to implement it https://docs.python.org/3/library/gzip.html\n",
    "3. Good explanation of Big / Little Endian - https://chortle.ccsu.edu/AssemblyTutorial/Chapter-15/ass15_3.html\n",
    "4. Example on outputting image from list of pixels - https://stackoverflow.com/questions/46923244/how-to-create-image-from-a-list-of-pixel-values-in-python3"
   ]
  },
  {
   "cell_type": "code",
   "execution_count": null,
   "metadata": {},
   "outputs": [],
   "source": []
  }
 ],
 "metadata": {
  "kernelspec": {
   "display_name": "Python 3",
   "language": "python",
   "name": "python3"
  },
  "language_info": {
   "codemirror_mode": {
    "name": "ipython",
    "version": 3
   },
   "file_extension": ".py",
   "mimetype": "text/x-python",
   "name": "python",
   "nbconvert_exporter": "python",
   "pygments_lexer": "ipython3",
   "version": "3.6.5"
  }
 },
 "nbformat": 4,
 "nbformat_minor": 2
}
