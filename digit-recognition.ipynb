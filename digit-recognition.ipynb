{
 "cells": [
  {
   "cell_type": "markdown",
   "metadata": {},
   "source": [
    "# Digit Recognition\n",
    "![Image of machine learniing](https://cdn-images-1.medium.com/max/1200/1*M9le42saJxWlOYyYvhKtPA.jpeg)\n",
    "\n",
    "\n",
    "## Contents\n",
    "\n",
    "1. Introduction to supervised machine learning\n",
    "2. The task\n",
    "3. MNIST\n",
    "4. Keras\n",
    "5. First Trial\n",
    "6. Second Trial\n",
    "7. Third Trial\n",
    "8. Results and Conclusion\n",
    "9. References\n",
    "\n",
    "## Introduction to supervised machine learning\n",
    "\n",
    "**Supervised machine learning [1]** is when an algorithm recieves an input, and figures out a way to map those inputs to an output. A simple formula would be $y = f(x)$ where x are the input variables, and y are the output variables.\n",
    "\n",
    "The reason why its \"supervised\" is because the algorithm has to be taught, in the same way a teacher teaches a student math principles, and from there on the algorithm will make its own conclusions. Supervised learning requires that the algorithm’s possible outputs are already known and that the data used to train the algorithm is already labeled with correct answers. \n",
    "\n",
    "In this notebook, we will learn how to use the supervised machine learning algorithm in the form of Keras to read the MNIST dataset.\n",
    "\n",
    "## The task\n",
    "\n",
    "Objective : \n",
    "To write a script that takes an image file containing a handwritten digit and identify the digit using a supervised learning algorithm.\n",
    "\n",
    "The problem: \n",
    "This is a digital recognition task. The challenge is to code a script that will achieve an acuuracy of about 99%, as effectively and efficiently as possible (CPU limits).\n",
    "\n",
    "Methodology:\n",
    "Run the experiment in 3 trials. Record the results in the first experiment, and make variations in the next 2 experiments.\n",
    "\n",
    "## Mnist\n",
    "**The MNIST dataset [2]** is a database that contains a training set of 60,000 examples, and a test set of 10,000 examples, of hand written digits. It stands for the Mixed National Institute of Standards and Technology. It is used for training image processing systems.\n",
    "\n",
    "A full explanation of the Mnist dataset can be found on my **MNIST notebook [3]**.\n",
    "\n",
    "## Keras\n",
    "![Image of keras](https://keras.io/img/keras-logo-small-wb.png)\n",
    "\n",
    "**Keras [4]** \"is a high-level neural networks API, written in Python and capable of running on top of TensorFlow, CNTK, or Theano\", according to the official Keras website. It is an API tool that allows quick and easy experimentation, and it has convulational networks.\n",
    "\n",
    "The reason why we chose Keras is because it is user friendly. We are able to create a machine learning model in just a few lines of code. It also runs seamlessly between GPU and CPU.  Hence, prototypes can be created in a jiffy.\n",
    "\n",
    "## First trial\n",
    "\n",
    "### 1. Reading in the Mnist dataset\n",
    "\n",
    "The MNIST dataset is read into the script using gzip, using the example from my previous notebook [3]. \n",
    "\n",
    "The training images array is reshaped into 60000, 28 * 28 images. This is done using the reshape() function. The pixels are also reversed with the ~ symbol, so that the foreground will be black and the background will be white. The pixels are divided by 255 so that the algorithm will be more accurate when taking in numbers from range 0-1 instead of 0-255."
   ]
  },
  {
   "cell_type": "code",
   "execution_count": 103,
   "metadata": {},
   "outputs": [
    {
     "data": {
      "text/plain": [
       "<matplotlib.image.AxesImage at 0x2089c4517f0>"
      ]
     },
     "execution_count": 103,
     "metadata": {},
     "output_type": "execute_result"
    },
    {
     "data": {
      "image/png": "[encoded data removed]",
      "text/plain": [
       "<Figure size 432x288 with 1 Axes>"
      ]
     },
     "metadata": {},
     "output_type": "display_data"
    }
   ],
   "source": [
    "import numpy as np\n",
    "import gzip\n",
    "import matplotlib.pyplot as plt\n",
    "\n",
    "# Open the training images\n",
    "with gzip.open('data/train-images-idx3-ubyte.gz', 'rb') as f:\n",
    "    train_img = f.read()\n",
    "\n",
    "# Open the training labels\n",
    "with gzip.open('data/train-labels-idx1-ubyte.gz', 'rb') as f:\n",
    "    train_lbl = f.read()\n",
    "\n",
    "# Reshape the training images to an array of 60000, of which the picture is 28 by 28 pixels.\n",
    "# The pixels are divided by 255 so that the algorithm will be more accurate when taking in numbers from range \n",
    "#  0-1 instead of 0-255\n",
    "# The pixels are also flipped around with the ~ symbol so that the foreground will be black and the \n",
    "#  background will be white\n",
    "train_img = ~np.array(list(train_img[16:])).reshape(60000, 28, 28).astype(np.uint8) / 255.0\n",
    "\n",
    "# The training labels are put into a list, starting from position 8 in the array, ignorning the metadata\n",
    "train_lbl =  np.array(list(train_lbl[ 8:])).astype(np.uint8)\n",
    "\n",
    "# Display the first image in the training image array\n",
    "plt.subplot(221)\n",
    "plt.imshow(train_img[0], cmap=plt.get_cmap('gray'))"
   ]
  },
  {
   "cell_type": "markdown",
   "metadata": {},
   "source": [
    "### 2. Fix the random seed\n",
    "\n",
    "The random seed is fixed so that the results can be reproduced."
   ]
  },
  {
   "cell_type": "code",
   "execution_count": 104,
   "metadata": {},
   "outputs": [],
   "source": [
    "# fix random seed for reproducibility\n",
    "seed = 7\n",
    "np.random.seed(seed)"
   ]
  },
  {
   "cell_type": "markdown",
   "metadata": {},
   "source": [
    "### 3. Flatten the input\n",
    "\n",
    "The training dataset is structured as a 3d array of instance, image width and image height. For a \"multi-layer perceptron model\" we must reduce the images down into a vector of pixels. In this case the 28×28 sized images will be 784 pixel input values."
   ]
  },
  {
   "cell_type": "code",
   "execution_count": 105,
   "metadata": {},
   "outputs": [],
   "source": [
    "# reshape into one linear input of pixels\n",
    "inputs = train_img.reshape(60000, 784)"
   ]
  },
  {
   "cell_type": "markdown",
   "metadata": {},
   "source": [
    "### 4. Encode the variables categorically \n",
    "\n",
    "Finally, the output variable is an integer from 0 to 9. This is a multi-class classification problem. As such, we should encode the class values, transforming the vector of class integers into a binary matrix."
   ]
  },
  {
   "cell_type": "code",
   "execution_count": 106,
   "metadata": {
    "scrolled": true
   },
   "outputs": [
    {
     "name": "stdout",
     "output_type": "stream",
     "text": [
      "0 [[1 0 0 0 0 0 0 0 0 0]]\n",
      "1 [[0 1 0 0 0 0 0 0 0 0]]\n",
      "2 [[0 0 1 0 0 0 0 0 0 0]]\n",
      "3 [[0 0 0 1 0 0 0 0 0 0]]\n",
      "4 [[0 0 0 0 1 0 0 0 0 0]]\n",
      "5 [[0 0 0 0 0 1 0 0 0 0]]\n",
      "6 [[0 0 0 0 0 0 1 0 0 0]]\n",
      "7 [[0 0 0 0 0 0 0 1 0 0]]\n",
      "8 [[0 0 0 0 0 0 0 0 1 0]]\n",
      "9 [[0 0 0 0 0 0 0 0 0 1]]\n"
     ]
    }
   ],
   "source": [
    "# For encoding categorical variables.\n",
    "import sklearn.preprocessing as pre\n",
    "\n",
    "encoder = pre.LabelBinarizer()\n",
    "encoder.fit(train_lbl)\n",
    "outputs = encoder.transform(train_lbl)\n",
    "\n",
    "for i in range(10):\n",
    "    print(i, encoder.transform([i]))"
   ]
  },
  {
   "cell_type": "markdown",
   "metadata": {},
   "source": [
    "### 5. Create Model\n",
    "\n",
    "We will now create our simple model.The model will be created using the Sequential() model built into keras.\n",
    "\n",
    "The model is a simple neural network with one hidden layer and the same number of neurons as there are inputs (784). The input layer uses a linear activation function.\n",
    "\n",
    "The softmax activation dunction is used on the output layer. Logarithmic loss is used as the loss function (called categorical_crossentropy in Keras) and the efficient ADAM gradient descent algorithm is used to learn the weights.\n"
   ]
  },
  {
   "cell_type": "code",
   "execution_count": 107,
   "metadata": {},
   "outputs": [],
   "source": [
    "# Import keras.\n",
    "import keras as kr\n",
    "\n",
    "# Start a neural network, building it by layers.\n",
    "model = kr.models.Sequential()\n",
    "\n",
    "# Add a hidden layer with an input layer with 784.\n",
    "model.add(kr.layers.Dense(784, activation='linear', input_dim=784, kernel_initializer='normal'))\n",
    "# Add the output layer\n",
    "model.add(kr.layers.Dense(10, kernel_initializer='normal', activation='softmax'))\n",
    "\n",
    "# Build the graph.\n",
    "model.compile(loss='categorical_crossentropy', optimizer='adam', metrics=['accuracy'])\n"
   ]
  },
  {
   "cell_type": "markdown",
   "metadata": {},
   "source": [
    "### 6. Fit the model\n",
    "\n",
    "Now, we will fit the model. The model has 2 epochs, so the training will run twice, and update every 100 images.\n",
    "\n",
    "This step might take a about half a minute depending on the CPU/GPU capabilities on the user's machine."
   ]
  },
  {
   "cell_type": "code",
   "execution_count": 108,
   "metadata": {},
   "outputs": [
    {
     "name": "stdout",
     "output_type": "stream",
     "text": [
      "Epoch 1/2\n",
      "60000/60000 [==============================] - 17s 284us/step - loss: 5.2659 - acc: 0.5911\n",
      "Epoch 2/2\n",
      "60000/60000 [==============================] - 15s 256us/step - loss: 3.4042 - acc: 0.7059\n"
     ]
    },
    {
     "data": {
      "text/plain": [
       "<keras.callbacks.History at 0x2089c299630>"
      ]
     },
     "execution_count": 108,
     "metadata": {},
     "output_type": "execute_result"
    }
   ],
   "source": [
    "# fit the model\n",
    "model.fit(inputs, outputs, epochs=2, batch_size=100)\n"
   ]
  },
  {
   "cell_type": "markdown",
   "metadata": {},
   "source": [
    "### 7. Test the model\n",
    "\n",
    "Finally, we can test the model. We will first read in the test datasets using gzip.\n",
    "\n",
    "Next, the predict() function will determine if the test image will match the test label. The number of test images predicted correctly is printed out."
   ]
  },
  {
   "cell_type": "code",
   "execution_count": 109,
   "metadata": {},
   "outputs": [
    {
     "data": {
      "text/plain": [
       "8165"
      ]
     },
     "execution_count": 109,
     "metadata": {},
     "output_type": "execute_result"
    }
   ],
   "source": [
    "# read the test images dataset\n",
    "with gzip.open('data/t10k-images-idx3-ubyte.gz', 'rb') as f:\n",
    "    test_img = f.read()\n",
    "\n",
    "# read the test labels dataset\n",
    "with gzip.open('data/t10k-labels-idx1-ubyte.gz', 'rb') as f:\n",
    "    test_lbl = f.read()\n",
    "    \n",
    "# reshape the test images array into the correct shape and format as the train array\n",
    "test_img = ~np.array(list(test_img[16:])).reshape(10000, 784).astype(np.uint8) / 255.0\n",
    "# The test labels are put into a list, starting from position 8 in the array, ignorning the metadata\n",
    "test_lbl =  np.array(list(test_lbl[ 8:])).astype(np.uint8)\n",
    "\n",
    "# get sum of correct predictions\n",
    "(encoder.inverse_transform(model.predict(test_img)) == test_lbl).sum()\n"
   ]
  },
  {
   "cell_type": "markdown",
   "metadata": {},
   "source": [
    "### 8. Further testing\n",
    "\n",
    "This test is to see the accuracy of the model in predicting a random image in the test dataset. We will pick the tenth image."
   ]
  },
  {
   "cell_type": "code",
   "execution_count": 110,
   "metadata": {},
   "outputs": [
    {
     "name": "stdout",
     "output_type": "stream",
     "text": [
      "[7]\n"
     ]
    }
   ],
   "source": [
    "print(encoder.inverse_transform(model.predict(test_img[17:18])))\n"
   ]
  },
  {
   "cell_type": "code",
   "execution_count": 111,
   "metadata": {},
   "outputs": [
    {
     "data": {
      "text/plain": [
       "<matplotlib.image.AxesImage at 0x2089d8128d0>"
      ]
     },
     "execution_count": 111,
     "metadata": {},
     "output_type": "execute_result"
    },
    {
     "data": {
      "image/png": "[encoded data removed]",
      "text/plain": [
       "<Figure size 432x288 with 1 Axes>"
      ]
     },
     "metadata": {},
     "output_type": "display_data"
    }
   ],
   "source": [
    "import matplotlib.pyplot as plt\n",
    "\n",
    "plt.imshow(test_img[17].reshape(28, 28), cmap='gray')\n"
   ]
  },
  {
   "cell_type": "markdown",
   "metadata": {},
   "source": [
    "We can see that the model is accurate enough to predict the number 7 from the test image.\n",
    "\n",
    "### 9.Conclusion from first trial\n",
    "\n",
    "From the results of the first trial, we can conclude that the model is working at about 80% accuracy. It made 8165 correct predictions and predicted digit of the random image correctly.\n",
    "\n",
    "80% is a good start, but we want to try to get the system up to a 99% accuracy."
   ]
  },
  {
   "cell_type": "markdown",
   "metadata": {},
   "source": [
    "## Second trial\n",
    "\n",
    "### 1. Setting up a new model\n",
    "\n",
    "In the first trial model, we used a linear activation. Through research, I've found that switiching the activation to relu will drastically improve performance.\n",
    "\n",
    "Relu, or Rectified Linear Unit is the improved linear activations. It basically includes a max value and threshold to return a more accurate prediction."
   ]
  },
  {
   "cell_type": "code",
   "execution_count": 142,
   "metadata": {},
   "outputs": [],
   "source": [
    "# Start a neural network, building it by layers.\n",
    "model2 = kr.models.Sequential()\n",
    "\n",
    "# Add a hidden layer with an input layer with 784 with activation RELU\n",
    "model2.add(kr.layers.Dense(784, activation='relu', input_dim=784, kernel_initializer='normal'))\n",
    "# Add the output layer\n",
    "model2.add(kr.layers.Dense(10, kernel_initializer='normal', activation='softmax'))\n",
    "\n",
    "# Build the graph.\n",
    "model2.compile(loss='categorical_crossentropy', optimizer='adam', metrics=['accuracy'])\n"
   ]
  },
  {
   "cell_type": "markdown",
   "metadata": {},
   "source": [
    "### 2. More epochs\n",
    "The new model will be set to 10 epochs, so the training will run ten times, and update every 100 images.\n",
    "\n",
    "This step will take 5 times longer to train the model."
   ]
  },
  {
   "cell_type": "code",
   "execution_count": 143,
   "metadata": {},
   "outputs": [
    {
     "name": "stdout",
     "output_type": "stream",
     "text": [
      "Epoch 1/10\n",
      "60000/60000 [==============================] - 19s 313us/step - loss: 0.5544 - acc: 0.8379\n",
      "Epoch 2/10\n",
      "60000/60000 [==============================] - 16s 260us/step - loss: 0.3161 - acc: 0.9057\n",
      "Epoch 3/10\n",
      "60000/60000 [==============================] - 16s 260us/step - loss: 0.2499 - acc: 0.9247\n",
      "Epoch 4/10\n",
      "60000/60000 [==============================] - 16s 265us/step - loss: 0.2021 - acc: 0.9399\n",
      "Epoch 5/10\n",
      "60000/60000 [==============================] - 16s 268us/step - loss: 0.1737 - acc: 0.9479\n",
      "Epoch 6/10\n",
      "60000/60000 [==============================] - 16s 272us/step - loss: 0.1479 - acc: 0.9555\n",
      "Epoch 7/10\n",
      "60000/60000 [==============================] - 16s 273us/step - loss: 0.1353 - acc: 0.9587\n",
      "Epoch 8/10\n",
      "60000/60000 [==============================] - 17s 284us/step - loss: 0.1206 - acc: 0.9631\n",
      "Epoch 9/10\n",
      "60000/60000 [==============================] - 17s 286us/step - loss: 0.1162 - acc: 0.9643\n",
      "Epoch 10/10\n",
      "60000/60000 [==============================] - 18s 295us/step - loss: 0.1048 - acc: 0.9680\n"
     ]
    },
    {
     "data": {
      "text/plain": [
       "<keras.callbacks.History at 0x20889ac8ef0>"
      ]
     },
     "execution_count": 143,
     "metadata": {},
     "output_type": "execute_result"
    }
   ],
   "source": [
    "# fit the model\n",
    "model2.fit(inputs, outputs, epochs=10, batch_size=100)"
   ]
  },
  {
   "cell_type": "markdown",
   "metadata": {},
   "source": [
    "### 3. Testing new model\n",
    "\n",
    "We will run the new model by using the same test data set."
   ]
  },
  {
   "cell_type": "code",
   "execution_count": 144,
   "metadata": {},
   "outputs": [
    {
     "data": {
      "text/plain": [
       "9664"
      ]
     },
     "execution_count": 144,
     "metadata": {},
     "output_type": "execute_result"
    }
   ],
   "source": [
    "# read the test images dataset\n",
    "with gzip.open('data/t10k-images-idx3-ubyte.gz', 'rb') as f:\n",
    "    test_img = f.read()\n",
    "\n",
    "# read the test labels dataset\n",
    "with gzip.open('data/t10k-labels-idx1-ubyte.gz', 'rb') as f:\n",
    "    test_lbl = f.read()\n",
    "    \n",
    "# reshape the test images array into the correct shape and format as the train array\n",
    "test_img = ~np.array(list(test_img[16:])).reshape(10000, 784).astype(np.uint8) / 255.0\n",
    "# The test labels are put into a list, starting from position 8 in the array, ignorning the metadata\n",
    "test_lbl =  np.array(list(test_lbl[ 8:])).astype(np.uint8)\n",
    "\n",
    "# get sum of correct predictions\n",
    "(encoder.inverse_transform(model2.predict(test_img)) == test_lbl).sum()\n"
   ]
  },
  {
   "cell_type": "markdown",
   "metadata": {},
   "source": [
    "### 4. Conclusion from Second Trial\n",
    "\n",
    "From the results, we can observe a big jump in effciency of the new model. The model predicted 9646 images correctly compared to 8165 from the first model. \n",
    "\n",
    "The model is about 96% accurate, but takes a longer time to train the neural network.\n",
    "\n",
    "\n",
    "## Third trial\n",
    "\n",
    "### 1. Setting up new model with more layers\n",
    "\n",
    "This time, we will set up the model with new layers. In the previous models, the models were set up with an input layer and output layer. "
   ]
  },
  {
   "cell_type": "code",
   "execution_count": 121,
   "metadata": {},
   "outputs": [],
   "source": [
    "# Start a neural network, building it by layers.\n",
    "model3 = kr.models.Sequential()\n",
    "\n",
    "# Add a hidden layer with 600 neuros and  with input 784 with activation RELU\n",
    "model3.add(kr.layers.Dense(units=600, activation='relu', input_dim=784, kernel_initializer='normal'))\n",
    "# Add second hidden layer with 600 neuros and  with input 784 with activation RELU\n",
    "model3.add(kr.layers.Dense(units = 400, activation='relu', kernel_initializer='normal'))\n",
    "# Add the output layer\n",
    "model3.add(kr.layers.Dense(10, kernel_initializer='normal', activation='softmax'))\n",
    "\n",
    "# Build the graph.\n",
    "model3.compile(loss='categorical_crossentropy', optimizer='adam', metrics=['accuracy'])\n"
   ]
  },
  {
   "cell_type": "markdown",
   "metadata": {},
   "source": [
    "### 2. Decreasing batch size\n",
    "\n",
    "Now, we will fit the model with a batch size of 50, instead of 100. The model has 10 epochs, so the training will ten times, and update every 50 images."
   ]
  },
  {
   "cell_type": "code",
   "execution_count": 124,
   "metadata": {},
   "outputs": [
    {
     "name": "stdout",
     "output_type": "stream",
     "text": [
      "Epoch 1/10\n",
      "60000/60000 [==============================] - 30s 503us/step - loss: 0.1219 - acc: 0.9613\n",
      "Epoch 2/10\n",
      "60000/60000 [==============================] - 30s 499us/step - loss: 0.0992 - acc: 0.9679\n",
      "Epoch 3/10\n",
      "60000/60000 [==============================] - 32s 528us/step - loss: 0.0904 - acc: 0.9706\n",
      "Epoch 4/10\n",
      "60000/60000 [==============================] - 31s 518us/step - loss: 0.0826 - acc: 0.9729\n",
      "Epoch 5/10\n",
      "60000/60000 [==============================] - 30s 501us/step - loss: 0.0729 - acc: 0.9755\n",
      "Epoch 6/10\n",
      "60000/60000 [==============================] - 31s 523us/step - loss: 0.0714 - acc: 0.9765\n",
      "Epoch 7/10\n",
      "60000/60000 [==============================] - 32s 527us/step - loss: 0.0729 - acc: 0.9763\n",
      "Epoch 8/10\n",
      "60000/60000 [==============================] - 32s 532us/step - loss: 0.0656 - acc: 0.9779\n",
      "Epoch 9/10\n",
      "60000/60000 [==============================] - 32s 527us/step - loss: 0.0663 - acc: 0.9780\n",
      "Epoch 10/10\n",
      "60000/60000 [==============================] - 31s 523us/step - loss: 0.0608 - acc: 0.9805\n"
     ]
    },
    {
     "data": {
      "text/plain": [
       "<keras.callbacks.History at 0x2088732df28>"
      ]
     },
     "execution_count": 124,
     "metadata": {},
     "output_type": "execute_result"
    }
   ],
   "source": [
    "model3.fit(inputs, outputs, epochs=10, batch_size=50)"
   ]
  },
  {
   "cell_type": "markdown",
   "metadata": {},
   "source": [
    "3. Testing new model\n",
    "We will run the new model by using the same test data set."
   ]
  },
  {
   "cell_type": "code",
   "execution_count": 125,
   "metadata": {},
   "outputs": [
    {
     "data": {
      "text/plain": [
       "9705"
      ]
     },
     "execution_count": 125,
     "metadata": {},
     "output_type": "execute_result"
    }
   ],
   "source": [
    "# read the test images dataset\n",
    "with gzip.open('data/t10k-images-idx3-ubyte.gz', 'rb') as f:\n",
    "    test_img = f.read()\n",
    "\n",
    "# read the test labels dataset\n",
    "with gzip.open('data/t10k-labels-idx1-ubyte.gz', 'rb') as f:\n",
    "    test_lbl = f.read()\n",
    "    \n",
    "# reshape the test images array into the correct shape and format as the train array\n",
    "test_img = ~np.array(list(test_img[16:])).reshape(10000, 784).astype(np.uint8) / 255.0\n",
    "# The test labels are put into a list, starting from position 8 in the array, ignorning the metadata\n",
    "test_lbl =  np.array(list(test_lbl[ 8:])).astype(np.uint8)\n",
    "\n",
    "# get sum of correct predictions\n",
    "(encoder.inverse_transform(model3.predict(test_img)) == test_lbl).sum()\n"
   ]
  },
  {
   "cell_type": "markdown",
   "metadata": {},
   "source": [
    "### 4. Conclusion from Third Trial\n",
    "\n",
    "From the results, we can observe a small jump in effeciency of the new model. The model predicted 9705 images correctly compared to 9646 from the 2nd model. \n",
    "\n",
    "The model is about 97% accurate, but it took a long time to train the model."
   ]
  },
  {
   "cell_type": "markdown",
   "metadata": {},
   "source": [
    "## Results Analysis and Conclusion\n",
    "\n",
    "From our results, we managed to achieve about 97% accuracy. This is slightly below the target percentage accuracy of 99%, but it's still a feat using a simple linear network.\n",
    "\n",
    "For future research, the model should be set up with a **Simple Convolutional Neural Network [6]** which will take a bit more time to set up, but is more sophisticated and accurate.\n",
    "\n",
    "Below is the results of our research in graphical form. It is based of our previous experiments, as well as few others with different variables.\n",
    "\n",
    "Case A: Linear Activations, Epochs 2,  hidden layer 1, Batch size 100 <br>\n",
    "Case B: Relu Activations,   Epochs 2,  hidden layer 1, Batch size 100 <br>\n",
    "Case C: Relu Activations,   Epochs 10, hidden layer 1, Batch size 100<br>\n",
    "Case D: Relu Activations,   Epochs 10, hidden layer 2, Batch size 100<br>\n",
    "Case E: Relu Activations,   Epochs 10, hidden layer 2, Batch size 50<br>\n",
    "\n",
    "The most effective change came from Changing the Linear activations to relu activations, and changing the epochs from 2 to 10\n",
    "\n",
    "Finally, thanks to Dr Ian McLoughlin for supplying most of the **code snippets [7]** that can be found on his github."
   ]
  },
  {
   "cell_type": "code",
   "execution_count": 145,
   "metadata": {},
   "outputs": [
    {
     "data": {
      "image/png": "[encoded data removed]",
      "text/plain": [
       "<Figure size 432x288 with 1 Axes>"
      ]
     },
     "metadata": {},
     "output_type": "display_data"
    }
   ],
   "source": [
    "\n",
    "import numpy as np\n",
    "import matplotlib.pyplot as plt\n",
    "from matplotlib.ticker import MaxNLocator\n",
    "from collections import namedtuple\n",
    "\n",
    "# 5 cases\n",
    "n_groups = 5\n",
    "\n",
    "# Set scores\n",
    "score = (8165, 9110, 9664, 9689, 9705)\n",
    "fig, ax = plt.subplots()\n",
    "\n",
    "# format table\n",
    "index = np.arange(n_groups)\n",
    "bar_width = 0.35\n",
    "opacity = 0.4\n",
    "error_config = {'ecolor': '0.3'}\n",
    "rects1 = ax.bar(index, score, bar_width,\n",
    "                alpha=opacity, color='b',\n",
    "                 error_kw=error_config,\n",
    "                )\n",
    "\n",
    "# plot table\n",
    "plt.ylim(7000,10000)\n",
    "ax.set_xlabel('Group')\n",
    "ax.set_ylabel('Scores')\n",
    "ax.set_title('Number of images predicted correctly')\n",
    "ax.set_xticks(index + bar_width / 10)\n",
    "ax.set_xticklabels(('A', 'B', 'C', 'D', 'E'))\n",
    "fig.tight_layout()\n",
    "plt.show()"
   ]
  },
  {
   "cell_type": "markdown",
   "metadata": {},
   "source": [
    "## References\n",
    "1. Simple explanation on supervised vs unsupervised machine learning - https://machinelearningmastery.com/supervised-and-unsupervised-machine-learning-algorithms/\n",
    "2. MNIST Database Website - http://yann.lecun.com/exdb/mnist/\n",
    "3. Explanation on the MNIST database and how to read it in memory - https://github.com/yonjeremy/emerging-technologies-assesment/blob/master/mnist-dataset.ipynb\n",
    "4. Official Keras documentation website - https://keras.io/\n",
    "5. Explanation on Activations - https://keras.io/activations/\n",
    "6. Good guide on Convolutional neural networks  - https://machinelearningmastery.com/handwritten-digit-recognition-using-convolutional-neural-networks-python-keras/\n",
    "7. Code snippets from here - https://github.com/ianmcloughlin/jupyter-teaching-notebooks/blob/master/mnist.ipynb"
   ]
  }
 ],
 "metadata": {
  "kernelspec": {
   "display_name": "Python 3",
   "language": "python",
   "name": "python3"
  },
  "language_info": {
   "codemirror_mode": {
    "name": "ipython",
    "version": 3
   },
   "file_extension": ".py",
   "mimetype": "text/x-python",
   "name": "python",
   "nbconvert_exporter": "python",
   "pygments_lexer": "ipython3",
   "version": "3.6.5"
  }
 },
 "nbformat": 4,
 "nbformat_minor": 2
}
