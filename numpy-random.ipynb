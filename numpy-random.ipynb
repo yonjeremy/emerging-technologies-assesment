{
 "cells": [
  {
   "cell_type": "markdown",
   "metadata": {},
   "source": [
    "\n",
    "# The NumPy random package ![Image of Numpyt](https://www.numpy.org/_static/numpy_logo.png)"
   ]
  },
  {
   "cell_type": "markdown",
   "metadata": {},
   "source": [
    "## Introduction to NumPy and numpy.random\n",
    "**Numpy[1]** is a package in the Python Language.  It provides a high-performance multidimensional array object, and tools for working with these arrays. It contains useful linear algebra, Fourier transform, and random number capabilities.\n",
    "Numpy.random is a sub-package of the Numpy package, and it basically churns out (pseudo) random numbers, using various tools and functions. It takes advantage of the **Mersenne Twister[2]** , which is the most used pseudorandom number generator (PRNG), and is already embedded in Python's library. The functions in the numpy.random sub-package can be divided into 4 categories, which are Simple random data (getting random numbers), permutations, distributions and seeding."
   ]
  },
  {
   "cell_type": "markdown",
   "metadata": {},
   "source": [
    "## Simple Random Data"
   ]
  },
  {
   "cell_type": "markdown",
   "metadata": {},
   "source": [
    "### numpy.random.rand()\n",
    "\n",
    "**Numpy.random.rand()[3]** is a function when called (with no argument), will return a random number in the **half-open interval[4]** between 0 (inclusive) and 1 (exclusive). It will also create an array of a given shape and populates it with random samples if parameters are passed through. This function uses the uniform distribution (see numpy.random.uniform).\n",
    "\n",
    "Parameters:\t\n",
    "d0, d1, …, dn : int, optional\n",
    "<br>The dimensions of the returned array, should all be positive. If no argument is given a single Python float is returned.\n",
    "\n",
    "Returns:\t\n",
    "out : ndarray, shape (d0, d1, ..., dn)\n",
    "<br>Random values."
   ]
  },
  {
   "cell_type": "code",
   "execution_count": 29,
   "metadata": {},
   "outputs": [
    {
     "data": {
      "text/plain": [
       "0.15391287784027308"
      ]
     },
     "execution_count": 29,
     "metadata": {},
     "output_type": "execute_result"
    }
   ],
   "source": [
    "import numpy as np\n",
    "np.random.rand() #produces a random float number between 0 and 1"
   ]
  },
  {
   "cell_type": "code",
   "execution_count": 30,
   "metadata": {},
   "outputs": [
    {
     "data": {
      "text/plain": [
       "array([[0.27732881, 0.44716439],\n",
       "       [0.24217735, 0.10258812]])"
      ]
     },
     "execution_count": 30,
     "metadata": {},
     "output_type": "execute_result"
    }
   ],
   "source": [
    "np.random.rand(2,2) #produces a 2d array with 2 rows and 2 columns"
   ]
  },
  {
   "cell_type": "code",
   "execution_count": 31,
   "metadata": {},
   "outputs": [
    {
     "data": {
      "text/plain": [
       "array([[[0.48314486, 0.17774002],\n",
       "        [0.87024694, 0.28826578]],\n",
       "\n",
       "       [[0.41583401, 0.07703941],\n",
       "        [0.23110712, 0.14475804]],\n",
       "\n",
       "       [[0.63181657, 0.85581803],\n",
       "        [0.69202536, 0.34077936]]])"
      ]
     },
     "execution_count": 31,
     "metadata": {},
     "output_type": "execute_result"
    }
   ],
   "source": [
    "np.random.rand(3,2,2) #produces a 3d array with 2 rows and 2 columns, and a depth of 3"
   ]
  },
  {
   "cell_type": "markdown",
   "metadata": {},
   "source": [
    "To prove that this function uses the uniform distribution, we will generate an array with 10000 values and plot it on a histogram with **matplotlib.pyplot[5]**, a useful tool for plotting data in graph form. In the graph below, we can see that the values that an almost equal number of values are generated per column."
   ]
  },
  {
   "cell_type": "code",
   "execution_count": 60,
   "metadata": {},
   "outputs": [
    {
     "data": {
      "text/plain": [
       "(array([ 985., 1013.,  957.,  991., 1004., 1018., 1013.,  998.,  999.,\n",
       "        1022.]),\n",
       " array([1.21869277e-04, 1.00107600e-01, 2.00093330e-01, 3.00079060e-01,\n",
       "        4.00064790e-01, 5.00050521e-01, 6.00036251e-01, 7.00021981e-01,\n",
       "        8.00007711e-01, 8.99993442e-01, 9.99979172e-01]),\n",
       " <a list of 10 Patch objects>)"
      ]
     },
     "execution_count": 60,
     "metadata": {},
     "output_type": "execute_result"
    },
    {
     "data": {
      "image/png": "[encoded data removed]",
      "text/plain": [
       "<Figure size 432x288 with 1 Axes>"
      ]
     },
     "metadata": {},
     "output_type": "display_data"
    }
   ],
   "source": [
    "import numpy as np\n",
    "import matplotlib.pyplot as plt\n",
    "\n",
    "x = np.random.rand(10000) #generate an array with 10000 values\n",
    "plt.hist(x,color='g') #plot out a histogram of the array"
   ]
  },
  {
   "cell_type": "markdown",
   "metadata": {},
   "source": [
    "### numpy.random.randn()\n",
    "\n",
    "**Numpy.random.randn()[6]** is a function that returns a sample (or samples) from the “standard normal” distribution. Returns a random number from using the univariate “normal” (Gaussian) distribution of mean 0 and variance 1.\n",
    "\n",
    "The normal curve (also known as the bell curve) has its symmetry about the centre. Half of the values generated will be less than the mean, and the other 50% of the values will be greater than the mean.\n",
    "\n",
    "Parameters:\t\n",
    "d0, d1, …, dn : int, optional\n",
    "<br>The dimensions of the returned array, should be all positive. If no argument is given a single Python float is returned.\n",
    "\n",
    "Returns:\t\n",
    "Z : ndarray or float\n",
    "<br>A (d0, d1, ..., dn)-shaped array of floating-point samples from the standard normal distribution, or a single such float if no parameters were supplied."
   ]
  },
  {
   "cell_type": "code",
   "execution_count": 33,
   "metadata": {},
   "outputs": [
    {
     "data": {
      "text/plain": [
       "0.4863020183809977"
      ]
     },
     "execution_count": 33,
     "metadata": {},
     "output_type": "execute_result"
    }
   ],
   "source": [
    "np.random.randn() #returns sample with one number"
   ]
  },
  {
   "cell_type": "code",
   "execution_count": 34,
   "metadata": {},
   "outputs": [
    {
     "data": {
      "text/plain": [
       "array([[ 1.79315872, -1.71839202],\n",
       "       [ 1.2695874 ,  0.57311412]])"
      ]
     },
     "execution_count": 34,
     "metadata": {},
     "output_type": "execute_result"
    }
   ],
   "source": [
    "np.random.randn(2,2) #returns 2 by 2 array sample"
   ]
  },
  {
   "cell_type": "markdown",
   "metadata": {},
   "source": [
    "For random samples from N(mu, sigma^2), use:\n",
    "\n",
    "sigma * np.random.randn(...) + mu"
   ]
  },
  {
   "cell_type": "markdown",
   "metadata": {},
   "source": [
    "Two-by-two array of samples from N(2, 6.25):"
   ]
  },
  {
   "cell_type": "code",
   "execution_count": 35,
   "metadata": {},
   "outputs": [
    {
     "data": {
      "text/plain": [
       "array([[-1.9560733 ,  1.05939382],\n",
       "       [ 0.88732044,  4.41637453]])"
      ]
     },
     "execution_count": 35,
     "metadata": {},
     "output_type": "execute_result"
    }
   ],
   "source": [
    "2.5 * np.random.randn(2, 2) + 2  #returns 2 by 2 array sample N(2, 6.25)"
   ]
  },
  {
   "cell_type": "markdown",
   "metadata": {},
   "source": [
    "Sample of 10000 values using this function will display a bell curve:"
   ]
  },
  {
   "cell_type": "code",
   "execution_count": 61,
   "metadata": {},
   "outputs": [
    {
     "data": {
      "image/png": "[encoded data removed]",
      "text/plain": [
       "<Figure size 432x288 with 1 Axes>"
      ]
     },
     "metadata": {},
     "output_type": "display_data"
    }
   ],
   "source": [
    "x = np.random.randn(10000) #generate an array with 10000 values\n",
    "plt.hist(x,color='r')\n",
    "plt.show()"
   ]
  },
  {
   "cell_type": "markdown",
   "metadata": {},
   "source": [
    "Further explanation of the normal distribution explained under numpy.random.normal()"
   ]
  },
  {
   "cell_type": "markdown",
   "metadata": {},
   "source": [
    "### numpy.random.randint()\n",
    "\n",
    "**numpy.random.randint()[7]** is a function that returns random integers from low (inclusive) to high (exclusive). It uses the discrete uniform distribution, similar to the numpy.random.rand function. \n",
    "\n",
    "Parameters:\t\n",
    "low : int\n",
    "<br>Lowest (signed) integer to be drawn from the distribution (unless high=None, in which case this parameter is one above the highest such integer).\n",
    "\n",
    "high : int, optional\n",
    "<br>If provided, one above the largest (signed) integer to be drawn from the distribution (see above for behavior if high=None).\n",
    "\n",
    "size : int or tuple of ints, optional\n",
    "<br>Output shape. If the given shape is, e.g., (m, n, k), then m * n * k samples are drawn. Default is None, in which case a single value is returned.\n",
    "\n",
    "dtype : dtype, optional\n",
    "<br>Desired dtype of the result. All dtypes are determined by their name, i.e., ‘int64’, ‘int’, etc, so byteorder is not available and a specific precision may have different C types depending on the platform. The default value is ‘np.int’.\n",
    "\n",
    "Returns:\t\n",
    "out : int or ndarray of ints\n",
    "<br>size-shaped array of random integers from the appropriate distribution, or a single such random int if size not provided.\n",
    "\n",
    "note: random.random_integers, which is similar to this function, has been deprecated.\n",
    "\n",
    "Example: Coin flip example, possible integers are 0 (heads) or 1 (tails)"
   ]
  },
  {
   "cell_type": "code",
   "execution_count": 37,
   "metadata": {},
   "outputs": [
    {
     "data": {
      "text/plain": [
       "0"
      ]
     },
     "execution_count": 37,
     "metadata": {},
     "output_type": "execute_result"
    }
   ],
   "source": [
    "np.random.randint(2) #random number is either 0 or 1"
   ]
  },
  {
   "cell_type": "markdown",
   "metadata": {},
   "source": [
    "Example: Generate a random byte"
   ]
  },
  {
   "cell_type": "code",
   "execution_count": 38,
   "metadata": {},
   "outputs": [
    {
     "data": {
      "text/plain": [
       "array([1, 0, 1, 1, 0, 0, 0, 0])"
      ]
     },
     "execution_count": 38,
     "metadata": {},
     "output_type": "execute_result"
    }
   ],
   "source": [
    "np.random.randint(2, size = 8)"
   ]
  },
  {
   "cell_type": "markdown",
   "metadata": {},
   "source": [
    "Example: Generate a sample with 10 numbers of which numbers are between 2(inclusive) and 5 (exclusive)"
   ]
  },
  {
   "cell_type": "code",
   "execution_count": 39,
   "metadata": {},
   "outputs": [
    {
     "data": {
      "text/plain": [
       "array([2, 4, 4, 4, 3, 3, 2, 4, 4, 3])"
      ]
     },
     "execution_count": 39,
     "metadata": {},
     "output_type": "execute_result"
    }
   ],
   "source": [
    "np.random.randint(2,5,size=10) "
   ]
  },
  {
   "cell_type": "markdown",
   "metadata": {},
   "source": [
    "Example: Generate a sample with 10 by 5 numbers that are between 2(inclusive) and 5(exclusive)"
   ]
  },
  {
   "cell_type": "code",
   "execution_count": 40,
   "metadata": {},
   "outputs": [
    {
     "data": {
      "text/plain": [
       "array([[3, 3, 2, 3, 4],\n",
       "       [3, 4, 3, 4, 4],\n",
       "       [2, 4, 4, 4, 4],\n",
       "       [2, 4, 2, 2, 2],\n",
       "       [3, 4, 4, 4, 2],\n",
       "       [2, 4, 2, 4, 2],\n",
       "       [2, 4, 4, 3, 2],\n",
       "       [2, 3, 4, 4, 2],\n",
       "       [3, 2, 2, 2, 2],\n",
       "       [2, 2, 2, 2, 2]])"
      ]
     },
     "execution_count": 40,
     "metadata": {},
     "output_type": "execute_result"
    }
   ],
   "source": [
    "np.random.randint(2,5,size=(10,5))"
   ]
  },
  {
   "cell_type": "markdown",
   "metadata": {},
   "source": [
    "### numpy.random.random_sample()"
   ]
  },
  {
   "cell_type": "markdown",
   "metadata": {},
   "source": [
    "**numpy.random.random_sample()[8]** is a function that returns random floats in the half-open interval. Similar to the randint() function, but instead of returning ints, it'll return floats. Calling a function without any parameters will output a float between 0.0(inlusive) and 1.0(exlusive). Results are based off the continuous uniform distribution.\n",
    "\n",
    "Parameters:\t\n",
    "size : int or tuple of ints, optional\n",
    "<br>Output shape. If the given shape is, e.g., (m, n, k), then m * n * k samples are drawn. Default is None, in which case a single value is returned.\n",
    "\n",
    "Returns:\t\n",
    "out : float or ndarray of floats\n",
    "<br>Array of random floats of shape size (unless size=None, in which case a single float is returned).\n",
    "\n"
   ]
  },
  {
   "cell_type": "markdown",
   "metadata": {},
   "source": [
    "Example: Generate a random price for a good under one euro"
   ]
  },
  {
   "cell_type": "code",
   "execution_count": 41,
   "metadata": {},
   "outputs": [
    {
     "data": {
      "text/plain": [
       "0.07"
      ]
     },
     "execution_count": 41,
     "metadata": {},
     "output_type": "execute_result"
    }
   ],
   "source": [
    "round(np.random.random_sample(),2) #gets a random float and round up to two decimal places"
   ]
  },
  {
   "cell_type": "markdown",
   "metadata": {},
   "source": [
    "Example: Generate an array of 3 random floats"
   ]
  },
  {
   "cell_type": "code",
   "execution_count": 42,
   "metadata": {},
   "outputs": [
    {
     "data": {
      "text/plain": [
       "array([0.3214782 , 0.29506637, 0.18334676])"
      ]
     },
     "execution_count": 42,
     "metadata": {},
     "output_type": "execute_result"
    }
   ],
   "source": [
    "np.random.random_sample(3)"
   ]
  },
  {
   "cell_type": "markdown",
   "metadata": {},
   "source": [
    "Example: Generate a random float between -5 and 15\n",
    "Use formula : (b - a) * random_sample() + a"
   ]
  },
  {
   "cell_type": "code",
   "execution_count": 43,
   "metadata": {},
   "outputs": [
    {
     "data": {
      "text/plain": [
       "-0.24541775599491"
      ]
     },
     "execution_count": 43,
     "metadata": {},
     "output_type": "execute_result"
    }
   ],
   "source": [
    "(15 - -5) * np.random.random_sample() + -5"
   ]
  },
  {
   "cell_type": "markdown",
   "metadata": {},
   "source": [
    "Example: Return a 3 by 3 array of random floats between -5 and 15"
   ]
  },
  {
   "cell_type": "code",
   "execution_count": 44,
   "metadata": {},
   "outputs": [
    {
     "data": {
      "text/plain": [
       "array([[-3.46173033, -1.62800352, 11.64879085],\n",
       "       [ 4.47345627,  8.86369893, 12.06088071],\n",
       "       [ 7.815423  , -0.35100442,  7.26663229]])"
      ]
     },
     "execution_count": 44,
     "metadata": {},
     "output_type": "execute_result"
    }
   ],
   "source": [
    "(15 - -5) * np.random.random_sample((3,3)) + -5"
   ]
  },
  {
   "cell_type": "markdown",
   "metadata": {},
   "source": [
    "*random(),ranf(), and sample() functions are similar to random_sample and have been deprecated"
   ]
  },
  {
   "cell_type": "markdown",
   "metadata": {},
   "source": [
    "### numpy.random.choice()"
   ]
  },
  {
   "cell_type": "markdown",
   "metadata": {},
   "source": [
    "**numpy.random.choice()[9]** function generates a random sample from a given 1-D array. It uses a uniform distribution when generating the sample, or a non-uniform sample if the user specifies the probability of each element in the array.\n",
    "\n",
    "Parameters:\t\n",
    "a : 1-D array-like or int\n",
    "<br>If an ndarray, a random sample is generated from its elements. If an int, the random sample is generated as if a were np.arange(a)\n",
    "\n",
    "size : int or tuple of ints, optional\n",
    "<br>Output shape. If the given shape is, e.g., (m, n, k), then m * n * k samples are drawn. Default is None, in which case a single value is returned.\n",
    "\n",
    "replace : boolean, optional\n",
    "<br>Whether the sample is with or without replacement\n",
    "\n",
    "p : 1-D array-like, optional\n",
    "<br>The probabilities associated with each entry in a. If not given the sample assumes a uniform distribution over all entries in a.\n",
    "\n",
    "Returns:\t\n",
    "samples : single item or ndarray\n",
    "<br>The generated random samples\n",
    "\n",
    "Raises:\t\n",
    "ValueError\n",
    "<br>If a is an int and less than zero, if a or p are not 1-dimensional, if a is an array-like of size 0, if p is not a vector of probabilities, if a and p have different lengths, or if replace=False and the sample size is greater than the population size\n",
    "\n",
    "Example: Generate a uniform random sample from an array of number [0,1,2,3,4] of size 4."
   ]
  },
  {
   "cell_type": "code",
   "execution_count": 45,
   "metadata": {},
   "outputs": [
    {
     "data": {
      "text/plain": [
       "array([2, 4, 0])"
      ]
     },
     "execution_count": 45,
     "metadata": {},
     "output_type": "execute_result"
    }
   ],
   "source": [
    "np.random.choice(5, 3)"
   ]
  },
  {
   "cell_type": "markdown",
   "metadata": {},
   "source": [
    "Example: Generate a non-uniform random sample from an array of numbers [0,1,2,3,4] of size 4."
   ]
  },
  {
   "cell_type": "code",
   "execution_count": 46,
   "metadata": {},
   "outputs": [
    {
     "data": {
      "text/plain": [
       "array([3, 3, 3], dtype=int64)"
      ]
     },
     "execution_count": 46,
     "metadata": {},
     "output_type": "execute_result"
    }
   ],
   "source": [
    "np.random.choice(5, 3, p=[0.1, 0.1, 0.1, 0.7, 0])"
   ]
  },
  {
   "cell_type": "markdown",
   "metadata": {},
   "source": [
    "Example: Generate a uniform random sample from np.arange(5) of size 3 without replacement:"
   ]
  },
  {
   "cell_type": "code",
   "execution_count": 47,
   "metadata": {},
   "outputs": [
    {
     "data": {
      "text/plain": [
       "array([2, 1, 0])"
      ]
     },
     "execution_count": 47,
     "metadata": {},
     "output_type": "execute_result"
    }
   ],
   "source": [
    "np.random.choice(5, 3, replace=False)"
   ]
  },
  {
   "cell_type": "markdown",
   "metadata": {},
   "source": [
    "Example: Prove that the non-uniform random sample generated uses the probability given to each element. Create a sample size of 1000 with fruit elements, with varying probabilities. The total number of times per fruit is generated should match up to the probabilities given to the respective fruit."
   ]
  },
  {
   "cell_type": "code",
   "execution_count": 68,
   "metadata": {},
   "outputs": [
    {
     "data": {
      "text/plain": [
       "(array([569.,   0.,   0., 200.,   0.,   0., 121.,   0.,   0., 110.]),\n",
       " array([0. , 0.3, 0.6, 0.9, 1.2, 1.5, 1.8, 2.1, 2.4, 2.7, 3. ]),\n",
       " <a list of 10 Patch objects>)"
      ]
     },
     "execution_count": 68,
     "metadata": {},
     "output_type": "execute_result"
    },
    {
     "data": {
      "image/png": "[encoded data removed]",
      "text/plain": [
       "<Figure size 432x288 with 1 Axes>"
      ]
     },
     "metadata": {},
     "output_type": "display_data"
    }
   ],
   "source": [
    "x = np.random.choice([\"apple\",\"banana\",\"orange\",\"berry\"],(1000),p=[0.1,0.1,0.2,0.6])\n",
    "plt.hist(x,color='b')"
   ]
  },
  {
   "cell_type": "markdown",
   "metadata": {},
   "source": [
    "As we can see from the graph, berries was given a probability of 0.6, and hence roughly 600 berry objects were created out of a sample size of 1000."
   ]
  },
  {
   "cell_type": "markdown",
   "metadata": {},
   "source": [
    "### numpy.random.bytes()"
   ]
  },
  {
   "cell_type": "markdown",
   "metadata": {},
   "source": [
    "numpy.random.bytes() is function that generates random bytes.\n",
    "Parameters:\t\n",
    "length : int\n",
    "<br>Number of random bytes.\n",
    "\n",
    "Returns:\t\n",
    "out : str\n",
    "<br>String of length length.\n",
    "\n",
    "Example: Generate a random bte with length 5 and convert to string."
   ]
  },
  {
   "cell_type": "code",
   "execution_count": 49,
   "metadata": {},
   "outputs": [
    {
     "data": {
      "text/plain": [
       "'>ÊO\\x11L'"
      ]
     },
     "execution_count": 49,
     "metadata": {},
     "output_type": "execute_result"
    }
   ],
   "source": [
    "x = np.random.bytes(5)\n",
    "\"\".join(map(chr, x))"
   ]
  },
  {
   "cell_type": "markdown",
   "metadata": {},
   "source": [
    "## Permutations\n",
    "\n",
    "### shuffle()\n",
    "\n",
    "**shuffle[11]** is a function that modifies a sequence by shuffling its contents. For multi dimentionally arrays, shuffle() will only change the order of the array along the first axis.\n",
    "\n",
    "Parameters:\t\n",
    "x : array_like\n",
    "<br>The array or list to be shuffled.\n",
    "\n",
    "Returns:\t\n",
    "<br>None\n",
    "\n",
    "Example: Shuffle an array of integers:"
   ]
  },
  {
   "cell_type": "code",
   "execution_count": 50,
   "metadata": {},
   "outputs": [
    {
     "data": {
      "text/plain": [
       "array([5, 6, 2, 9, 7, 8, 0, 1, 4, 3])"
      ]
     },
     "execution_count": 50,
     "metadata": {},
     "output_type": "execute_result"
    }
   ],
   "source": [
    "arr = np.arange(10)\n",
    "np.random.shuffle(arr)\n",
    "arr"
   ]
  },
  {
   "cell_type": "markdown",
   "metadata": {},
   "source": [
    "Example: Shuffle the order of a 2d 3 by 3 array along the first axis."
   ]
  },
  {
   "cell_type": "code",
   "execution_count": 51,
   "metadata": {},
   "outputs": [
    {
     "data": {
      "text/plain": [
       "array([[0, 1, 2],\n",
       "       [3, 4, 5],\n",
       "       [6, 7, 8]])"
      ]
     },
     "execution_count": 51,
     "metadata": {},
     "output_type": "execute_result"
    }
   ],
   "source": [
    "arr = np.arange(9).reshape((3, 3))\n",
    "np.random.shuffle(arr)\n",
    "arr"
   ]
  },
  {
   "cell_type": "markdown",
   "metadata": {},
   "source": [
    "### permutation()\n",
    "\n",
    "permutation()[12] is a function that takes in an array and returns a permutated copy of that array. For multi dimentionally arrays, shuffle() will only change the order of the array along the first axis.\n",
    "\n",
    "\n",
    "Parameters:\t\n",
    "x : int or array_like\n",
    "<br>If x is an integer, randomly permute np.arange(x). If x is an array, make a copy and shuffle the elements randomly.\n",
    "\n",
    "Returns:\t\n",
    "out : ndarray\n",
    "<br>Permuted sequence or array range.\n",
    "\n",
    "Example: Permutate an array of 10 integers from 0-9"
   ]
  },
  {
   "cell_type": "code",
   "execution_count": 52,
   "metadata": {},
   "outputs": [
    {
     "data": {
      "text/plain": [
       "array([0, 4, 3, 7, 1, 6, 2, 5, 8, 9])"
      ]
     },
     "execution_count": 52,
     "metadata": {},
     "output_type": "execute_result"
    }
   ],
   "source": [
    "np.random.permutation(10)"
   ]
  },
  {
   "cell_type": "code",
   "execution_count": 53,
   "metadata": {},
   "outputs": [
    {
     "name": "stdout",
     "output_type": "stream",
     "text": [
      "permutated array:\n",
      "[[0 1 2]\n",
      " [6 7 8]\n",
      " [3 4 5]]\n",
      "original array (not changed):\n",
      "[[0 1 2]\n",
      " [3 4 5]\n",
      " [6 7 8]]\n"
     ]
    }
   ],
   "source": [
    "arr = np.arange(9).reshape((3, 3))\n",
    "print(\"permutated array:\")\n",
    "print(np.random.permutation(arr))\n",
    "print(\"original array (not changed):\")\n",
    "print(arr)"
   ]
  },
  {
   "cell_type": "markdown",
   "metadata": {},
   "source": [
    "*The **difference[13]** between shuffle() and permutation() is that for permutation(), a copy of the array is shuffled, where as the array itself is shuffled for shuffle() "
   ]
  },
  {
   "cell_type": "markdown",
   "metadata": {},
   "source": [
    "## Distributions\n",
    "\n",
    "### Uniform()\n",
    "**Numpy.random.uniform()[14]** is a function that draws samples from a uniform distribution. Samples are uniformly distributed over the half-open interval [low, high) (includes low, but excludes high). It is the default distribution function used by rand(), randint() and random_sample()\n",
    "\n",
    "The probability density function of the uniform distribution is\n",
    "$$p(x) = \\frac{1}{b - a}$$\n",
    "where a = low and b = high\n",
    "\n",
    "For example: if a = -5 and b = 5\n",
    "$$p(x) = \\frac{1}{5 -(-5)} = \\frac{1}{10}$$\n",
    "therefore, the probability of every object in that array is 0.1\n",
    "\n",
    "Parameters:\t\n",
    "low : float or array_like of floats, optional\n",
    "<br>Lower boundary of the output interval. All values generated will be greater than or equal to low. The default value is 0.\n",
    "\n",
    "high : float or array_like of floats\n",
    "<br>Upper boundary of the output interval. All values generated will be less than high. The default value is 1.0.\n",
    "\n",
    "size : int or tuple of ints, optional\n",
    "<br>Output shape. If the given shape is, e.g., (m, n, k), then m * n * k samples are drawn. If size is None (default), a single value is returned if low and high are both scalars. Otherwise, np.broadcast(low, high).size samples are drawn.\n",
    "\n",
    "Returns:\t\n",
    "out : ndarray or scalar\n",
    "<br>Drawn samples from the parameterized uniform distribution.\n",
    "\n",
    "Example: Generate a random sample that is uniformly distributed with 10000 values from 0 to 10"
   ]
  },
  {
   "cell_type": "code",
   "execution_count": 81,
   "metadata": {
    "scrolled": true
   },
   "outputs": [
    {
     "data": {
      "image/png": "[encoded data removed]",
      "text/plain": [
       "<Figure size 432x288 with 1 Axes>"
      ]
     },
     "metadata": {},
     "output_type": "display_data"
    }
   ],
   "source": [
    "import matplotlib.pyplot as plt\n",
    "s = np.random.uniform(0,10,10000)\n",
    "count, bins, ignored = plt.hist(s, 10, density=True, color='g')\n",
    "plt.axhline(y=np.average(count), color='r', linestyle='-')\n",
    "plt.show()\n",
    "\n"
   ]
  },
  {
   "cell_type": "markdown",
   "metadata": {},
   "source": [
    "Based on that diagram, we can see that the graph shows a fairly uniform result. The red line shows the probability p(x) of this distribution, which is at 0.1. There is little fluctutation in between the columns. "
   ]
  },
  {
   "cell_type": "markdown",
   "metadata": {},
   "source": [
    "### Normal()\n",
    "\n",
    "The **numpy.random.normal()[15]** function draws random samples from a normal distribution. It is also known as the bell curve because of its shape. \n",
    "\n",
    "Parameters:\t\n",
    "loc : float or array_like of floats\n",
    "<br>Mean (“centre”) of the distribution.\n",
    "\n",
    "scale : float or array_like of floats\n",
    "<br>Standard deviation (spread or “width”) of the distribution.\n",
    "\n",
    "size : int or tuple of ints, optional\n",
    "<br>Output shape.\n",
    "\n",
    "Returns:\t\n",
    "out : ndarray or scalar\n",
    "<br>Drawn samples from the parameterized normal distribution.\n",
    "\n",
    "Data can be \"distributed\" in different ways, but in many cases, data tends to be around a central value with no bias left or right, and it gets close to a normal distribution like this[16]: ![Image of bell](https://www.mathsisfun.com/data/images/normal-distribution-2.svg)\n",
    "\n",
    "50% of values less than the mean and 50% greater than the mean, and the symmetry is about the center. \n",
    "\n",
    "To understand normal distributions, we need to understand what **standard deviations** are. Standard deviations is basically a measure of how spread out numbers are. When we calculate the standard deviation we find that generally:\n",
    "1. 68% of values are within 1 standard deviation of the mean\n",
    "2. 95% of values are within 2 standard deviations of the mean\n",
    "3. 99.7% of values are within 3 standard deviations of the mean\n",
    "\n",
    "Example of drawing a bellcurve of the height of students in a school, with mean 1.4, standard deviation of 0.15 and a sample size of 1000 students. [17]"
   ]
  },
  {
   "cell_type": "code",
   "execution_count": 109,
   "metadata": {},
   "outputs": [
    {
     "name": "stderr",
     "output_type": "stream",
     "text": [
      "C:\\Users\\yonje\\Anaconda3\\lib\\site-packages\\ipykernel_launcher.py:5: MatplotlibDeprecationWarning: scipy.stats.norm.pdf\n",
      "  \"\"\"\n"
     ]
    },
    {
     "data": {
      "text/plain": [
       "<matplotlib.lines.Line2D at 0x2b7730b9710>"
      ]
     },
     "execution_count": 109,
     "metadata": {},
     "output_type": "execute_result"
    },
    {
     "data": {
      "image/png": "[encoded data removed]",
      "text/plain": [
       "<Figure size 432x288 with 1 Axes>"
      ]
     },
     "metadata": {},
     "output_type": "display_data"
    }
   ],
   "source": [
    "s = np.random.normal(1.4, 0.15, 1000)\n",
    "count, bins, ignored = plt.hist(s, 30, density=True,alpha=0.5)\n",
    "\n",
    "import matplotlib.mlab as mlab\n",
    "y = mlab.normpdf(bins, 1.4, 0.15) # add the best fit line\n",
    "plt.plot(bins, y, 'r--')\n",
    "plt.subplots_adjust(left=0.15)\n",
    "plt.axvline(x=1.4, color='y')\n",
    "plt.axvline(x=1.25, color='y')\n",
    "plt.axvline(x=1.1, color='y')\n",
    "plt.axvline(x=1.55, color='y')\n",
    "plt.axvline(x=1.7, color='y')"
   ]
  },
  {
   "cell_type": "markdown",
   "metadata": {},
   "source": [
    "### Binomial()\n",
    "\n",
    "The **numpy.random.binomial()[18]** function draws samples from a binomial distribution.\n",
    "\n",
    "\n",
    "Parameters:\t\n",
    "n : int or array_like of ints\n",
    "<br>Parameter of the distribution, >= 0. Floats are also accepted, but they will be truncated to integers.\n",
    "\n",
    "p : float or array_like of floats\n",
    "<br>Parameter of the distribution, >= 0 and <=1.\n",
    "\n",
    "size : int or tuple of ints, optional\n",
    "<br>Output shape. \n",
    "\n",
    "Returns:\t\n",
    "out : ndarray or scalar\n",
    "<br>Drawn samples from the parameterized binomial distribution, where each sample is equal to the number of successes over the n trials.\n",
    "\n",
    "Example: Tossing a coin. The probability of the coin landing on heads is 0.5, and the probability of the coin landing on tails is also 0.5. If the coin is tossed 3 times, what are the probabilities of every outcome?\n",
    "\n",
    "There are 8 possibilities:\n",
    "1. HHH\n",
    "2. HTT\n",
    "3. HHT\n",
    "4. HTH\n",
    "5. THT\n",
    "6. TTH\n",
    "7. THH\n",
    "8. TTT\n",
    "\n",
    "Therefore, we can see that the probability of getting 3 heads is 1/8 (HHH), the probability of getting 2 heads is 3/8 (HHT,HTH,THH), the probability of getting 1 head is 3/8 (THT,TTH,HTT), and the probability of getting no heads is 1/8 (TTT). \n",
    "\n",
    "Let's run this test 100 times using numpy:"
   ]
  },
  {
   "cell_type": "code",
   "execution_count": 134,
   "metadata": {},
   "outputs": [
    {
     "data": {
      "text/plain": [
       "(array([10.,  0.,  0., 39.,  0.,  0., 42.,  0.,  0.,  9.]),\n",
       " array([0. , 0.3, 0.6, 0.9, 1.2, 1.5, 1.8, 2.1, 2.4, 2.7, 3. ]),\n",
       " <a list of 10 Patch objects>)"
      ]
     },
     "execution_count": 134,
     "metadata": {},
     "output_type": "execute_result"
    },
    {
     "data": {
      "image/png": "[encoded data removed]",
      "text/plain": [
       "<Figure size 432x288 with 1 Axes>"
      ]
     },
     "metadata": {},
     "output_type": "display_data"
    }
   ],
   "source": [
    "n, p = 3, 0.5\n",
    "x = np.random.binomial(n, p,100)\n",
    "plt.hist(x)"
   ]
  },
  {
   "cell_type": "markdown",
   "metadata": {},
   "source": [
    "From the graph, we can see roughly 3/8 or 38 times there will be two heads or two tails, and 1/8 of the time, there will be no tails or no heads."
   ]
  },
  {
   "cell_type": "markdown",
   "metadata": {},
   "source": [
    "Example: Dangerous Road. Unlike a coin flip with has an equal probability, the probability of an accident occuring on a dangerous road might not be equal as not having an accident. Say if the chances of having an accident on this road is 0.3 (0.7 probability of a safe journey), what is the probability that the next 5 out of 10 cars will be involved in an accident?\n",
    "\n",
    "Let's run this test 10000 times:"
   ]
  },
  {
   "cell_type": "code",
   "execution_count": 193,
   "metadata": {},
   "outputs": [
    {
     "data": {
      "text/plain": [
       "(array([2.840e+02, 1.217e+03, 2.327e+03, 2.652e+03, 1.979e+03, 1.046e+03,\n",
       "        3.960e+02, 8.600e+01, 1.100e+01, 2.000e+00]),\n",
       " array([0. , 0.9, 1.8, 2.7, 3.6, 4.5, 5.4, 6.3, 7.2, 8.1, 9. ]),\n",
       " <a list of 10 Patch objects>)"
      ]
     },
     "execution_count": 193,
     "metadata": {},
     "output_type": "execute_result"
    },
    {
     "data": {
      "image/png": "[encoded data removed]",
      "text/plain": [
       "<Figure size 432x288 with 1 Axes>"
      ]
     },
     "metadata": {},
     "output_type": "display_data"
    }
   ],
   "source": [
    "n, p = 10, 0.3\n",
    "\n",
    "x = np.random.binomial(n, p,10000)\n",
    "plt.hist(x)"
   ]
  },
  {
   "cell_type": "markdown",
   "metadata": {},
   "source": [
    "We can see that roughly 1000 times out of 10000 times the next 5 cars will be in accidents, that means the probability of the next 5 cars being in an accident is 10%.\n",
    "\n",
    "Examples referenced from **mathisfun.com[19]**"
   ]
  },
  {
   "cell_type": "code",
   "execution_count": null,
   "metadata": {},
   "outputs": [],
   "source": []
  },
  {
   "cell_type": "code",
   "execution_count": null,
   "metadata": {},
   "outputs": [],
   "source": []
  },
  {
   "cell_type": "code",
   "execution_count": null,
   "metadata": {},
   "outputs": [],
   "source": []
  },
  {
   "cell_type": "code",
   "execution_count": null,
   "metadata": {},
   "outputs": [],
   "source": []
  },
  {
   "cell_type": "markdown",
   "metadata": {},
   "source": [
    "## References\n",
    "1. https://www.numpy.org/ - Welcome to NumPy - Introduction of NumPy\n",
    "2. https://www.maths.tcd.ie/~fionn/misc/mt.php - Details of the Mersenne Twister formula\n",
    "3. https://docs.scipy.org/doc/numpy-1.15.1/reference/generated/numpy.random.randint.html#numpy.random.randint - numpy.random.rand() explanation\n",
    "4. http://mathworld.wolfram.com/Half-ClosedInterval.html - explanation of the half-open interval\n",
    "5. https://matplotlib.org/api/pyplot_api.html - introduction to matplotlib.pyplot package\n",
    "6. https://docs.scipy.org/doc/numpy-1.15.1/reference/generated/numpy.random.randn.html#numpy.random.randn - numpy.random.randn() explanation\n",
    "7. https://docs.scipy.org/doc/numpy-1.15.1/reference/generated/numpy.random.random_integers.html#numpy.random.random_integers - numpy.random.randint() explanation\n",
    "8. https://docs.scipy.org/doc/numpy-1.15.1/reference/generated/numpy.random.random_sample.html#numpy.random.random_sample - numpy.random.random_sample explanation\n",
    "9. https://docs.scipy.org/doc/numpy-1.15.1/reference/generated/numpy.random.choice.html#numpy.random.choice - numpy.random.choice() explanation\n",
    "10. https://docs.scipy.org/doc/numpy-1.15.1/reference/generated/numpy.random.bytes.html#numpy.random.bytes - numpy.random.bytes explanation\n",
    "11. https://docs.scipy.org/doc/numpy-1.15.1/reference/generated/numpy.random.shuffle.html#numpy.random.shuffle - shuffle() explanation\n",
    "12. https://docs.scipy.org/doc/numpy-1.15.1/reference/generated/numpy.random.permutation.html - permutation() explanation\n",
    "13. https://stackoverflow.com/questions/15474159/shuffle-vs-permute-numpy - difference between shuffle() and permutation()\n",
    "14. https://docs.scipy.org/doc/numpy-1.15.1/reference/generated/numpy.random.uniform.html#numpy.random.uniform - official numpy reference for numpy.random.uniform()\n",
    "15. https://docs.scipy.org/doc/numpy-1.15.1/reference/generated/numpy.random.normal.html#numpy.random.normal - official numpy reference for numpy.random.normal()\n",
    "16. https://www.mathsisfun.com/data/standard-normal-distribution.html - good explanation of bell curves by math is fun.\n",
    "17. https://plot.ly/matplotlib/histograms/#basic-histogram-with-hist-function - code to draw bell curve\n",
    "18. https://docs.scipy.org/doc/numpy-1.15.1/reference/generated/numpy.random.binomial.html#numpy.random.binomial - official numpy reference for numpy.random.binomial()\n",
    "19. https://www.mathsisfun.com/data/binomial-distribution.html - good examples of binomial distribution"
   ]
  },
  {
   "cell_type": "code",
   "execution_count": null,
   "metadata": {},
   "outputs": [],
   "source": []
  }
 ],
 "metadata": {
  "kernelspec": {
   "display_name": "Python 3",
   "language": "python",
   "name": "python3"
  },
  "language_info": {
   "codemirror_mode": {
    "name": "ipython",
    "version": 3
   },
   "file_extension": ".py",
   "mimetype": "text/x-python",
   "name": "python",
   "nbconvert_exporter": "python",
   "pygments_lexer": "ipython3",
   "version": "3.6.5"
  }
 },
 "nbformat": 4,
 "nbformat_minor": 2
}
